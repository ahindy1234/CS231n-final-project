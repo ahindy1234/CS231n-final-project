{
 "cells": [
  {
   "cell_type": "code",
   "execution_count": null,
   "id": "eec58529-81a1-4863-8cd0-427b716e1077",
   "metadata": {},
   "outputs": [],
   "source": [
    "# format: prompt (key) -> top-5 most relevant uiuds (value) [1 (most relevant) to 5 (5th most relevant)]\n",
    "dataset = {\n",
    "    \"what is the Alex desk\": [923, 924, 925, 926, 927],\n",
    "    \"for the Alex desk, what are the warnings I should know of?\": [924, 923, 925, 926, 927],\n",
    "    \"for the Alex desk, what parts do I need?\": [925, 924, 923, 926, 927],\n",
    "    \"for the Alex desk, what is the first step?\": [926, 925, 924, 923, 927],\n",
    "    \"for the Alex desk, what is the second step?\": [926, 925, 924, 923, 927],\n",
    "    \"for the Alex desk, how many nails do I need for step one?\": [926, 925, 924, 923, 927],\n",
    "    \"for the Alex desk, how many parts do I need for step two?\": [926, 925, 924, 923, 927], \n",
    "    \"what is the Pahl desk\": [915, 916, 917, 918, 919],\n",
    "    \"for the Pahl desk, what are the warnings I should know of?\": [916, 915, 917, 918, 919],\n",
    "    \"for the Pahl desk, what parts do I need?\": [916, 915, 916, 918, 919],\n",
    "    \"for the Pahl desk, what is the first step?\": [917, 915, 916, 918, 919],\n",
    "    \"for the Pahl desk, what is the second step?\": [918, 915, 916, 917, 919],\n",
    "    \"for the Pahl desk, how many nails do I need for step one?\": [917, 915, 916, 918, 919],\n",
    "    \"for the Pahl desk, how many parts do I need for step two?\": [918, 915, 916, 917, 919], \n",
    "    \"what is the Fredrik desk\": [907, 908, 909, 910, 911],\n",
    "    \"for the Fredrik desk, what are the warnings I should know of?\": [908, 907, 909, 910, 911],\n",
    "    \"for the Fredrik desk, what parts do I need?\": [908, 907, 909, 910, 911],\n",
    "    \"for the Fredrik desk, what is the first step?\": [909, 907, 908, 909, 910],\n",
    "    \"for the Fredrik desk, what is the second step?\": [909, 907, 908, 909, 910],\n",
    "    \"for the Fredrik desk, what tool do I need for step one?\": [909, 907, 908, 909, 910],\n",
    "    \"for the Fredrik desk, how many parts do I need for step two?\": [909, 907, 908, 909, 910],\n",
    "    \"what is the Flisat desk\": [887, 888, 889, 890, 891],\n",
    "    \"for the Flisat desk, what are the warnings I should know of?\": [888, 887, 889, 890, 891],\n",
    "    \"for the Flisat desk, what parts do I need?\": [889, 887, 888, 890, 891],\n",
    "    \"for the Flisat desk, what is the first step?\": [890, 887, 889, 888, 891],\n",
    "    \"for the Flisat desk, what is the second step?\": [891, 887, 889, 888, 890],\n",
    "    \"for the Flisat desk, how many nails do I need for step one?\": [890, 887, 889, 888, 891],\n",
    "    \"for the Flisat desk, how many parts do I need for step two?\": [891, 887, 889, 888, 890],  \n",
    "    \"what is the vittsjo shelf\": [871, 876, 885, 884, 883],\n",
    "    \"for the vittsjo shelf, what are the warnings I should know of?\": [872, 873, 874, 875, 871],\n",
    "    \"for the vittsjo shelf, what parts do I need?\": [876, 871, 885, 884, 883],\n",
    "    \"for the vittsjo shelf, what is the first step?\": [877, 876, 871, 885, 878],\n",
    "    \"for the vittsjo shelf, what is the second step?\": [878, 871, 885, 884, 883],\n",
    "    \"for the vittsjo shelf, what pieces do I need for step one?\": [877, 876, 871, 885, 878],\n",
    "    \"for the vittsjo shelf, how many parts do I need for step two?\": [878, 871, 885, 884, 883], \n",
    "    \"what is the vaniljstang shelf\": [859, 860, 861, 869, 870],\n",
    "    \"for the vaniljstang shelf, what are the warnings I should know of?\": [860, 859, 861, 869, 870],\n",
    "    \"for the vaniljstang shelf, what parts do I need?\": [861, 859, 862, 869, 870],\n",
    "    \"for the vaniljstang shelf, what is the first step?\": [862, 859, 861, 863, 870],\n",
    "    \"for the vaniljstang shelf, what is the second step?\": [863, 859, 862, 861, 870],\n",
    "    \"for the vaniljstang shelf, what pieces do I need for step one?\": [862, 859, 861, 863, 870],\n",
    "    \"for the vaniljstang shelf, how many parts do I need for step two?\": [863, 859, 862, 861, 870],\n",
    "    \"what is the satsumas furniture\": [847, 848, 849, 857, 858],\n",
    "    \"for the satsumas furniture, what are the warnings I should know of?\": [848, 847, 849, 857, 858],\n",
    "    \"for the satsumas furniture, what parts do I need?\": [849, 848, 847, 857, 858],\n",
    "    \"for the satsumas furniture, what is the first step?\": [850, 847, 851, 857, 858],\n",
    "    \"for the satsumas furniture, what is the second step?\": [850, 847, 851, 857, 858],\n",
    "    \"for the satsumas furniture, what pieces do I need for step one?\": [850, 847, 851, 857, 858],\n",
    "    \"for the satsumas furniture, how many parts do I need for step two?\": [850, 847, 851, 857, 858],  \n",
    "}"
   ]
  }
 ],
 "metadata": {
  "kernelspec": {
   "display_name": "Python 3 (ipykernel)",
   "language": "python",
   "name": "python3"
  },
  "language_info": {
   "codemirror_mode": {
    "name": "ipython",
    "version": 3
   },
   "file_extension": ".py",
   "mimetype": "text/x-python",
   "name": "python",
   "nbconvert_exporter": "python",
   "pygments_lexer": "ipython3",
   "version": "3.11.7"
  }
 },
 "nbformat": 4,
 "nbformat_minor": 5
}
