{
  "nbformat": 4,
  "nbformat_minor": 0,
  "metadata": {
    "colab": {
      "provenance": []
    },
    "kernelspec": {
      "name": "python3",
      "display_name": "Python 3"
    },
    "language_info": {
      "name": "python"
    }
  },
  "cells": [
    {
      "cell_type": "markdown",
      "source": [
        "Setup"
      ],
      "metadata": {
        "id": "YHLt_C5JchKd"
      }
    },
    {
      "cell_type": "code",
      "source": [
        "from google.colab import drive\n",
        "\n",
        "# Mount Google Drive\n",
        "drive.mount('/content/drive')\n",
        "DIRECTORY = \"/content/drive/My Drive/cs231n/final project\"\n",
        "%cd $DIRECTORY"
      ],
      "metadata": {
        "colab": {
          "base_uri": "https://localhost:8080/"
        },
        "id": "uWpbp0N9fkPX",
        "outputId": "b52bede9-f826-411c-9e78-d704a4bc1487"
      },
      "execution_count": null,
      "outputs": [
        {
          "output_type": "stream",
          "name": "stdout",
          "text": [
            "Mounted at /content/drive\n",
            "/content/drive/My Drive/cs231n/final project\n"
          ]
        }
      ]
    },
    {
      "cell_type": "code",
      "execution_count": null,
      "metadata": {
        "colab": {
          "base_uri": "https://localhost:8080/"
        },
        "id": "mFy0pdwMfZ-9",
        "outputId": "91285e40-47cc-43f2-ce01-2628c10e2f6e"
      },
      "outputs": [
        {
          "output_type": "stream",
          "name": "stdout",
          "text": [
            "using device: cpu\n"
          ]
        }
      ],
      "source": [
        "import torch\n",
        "import torch.nn as nn\n",
        "import torch.optim as optim\n",
        "from torch.utils.data import DataLoader, TensorDataset\n",
        "from torch.utils.data import sampler\n",
        "\n",
        "import torchvision.datasets as dset\n",
        "import torchvision.transforms as T\n",
        "\n",
        "import json\n",
        "\n",
        "import numpy as np\n",
        "\n",
        "from copy import deepcopy\n",
        "\n",
        "import matplotlib.pyplot as plt\n",
        "\n",
        "USE_GPU = True\n",
        "dtype = torch.float32 # We will be using float throughout this tutorial.\n",
        "\n",
        "if USE_GPU and torch.cuda.is_available():\n",
        "    device = torch.device('cuda')\n",
        "else:\n",
        "    device = torch.device('cpu')\n",
        "\n",
        "# Constant to control how frequently we print train loss.\n",
        "print_every = 100\n",
        "print('using device:', device)"
      ]
    },
    {
      "cell_type": "markdown",
      "source": [
        "Load data"
      ],
      "metadata": {
        "id": "JIJ-SZ6YcjgM"
      }
    },
    {
      "cell_type": "code",
      "source": [
        "from ast import literal_eval\n",
        "\n",
        "text_model = \"\"\n",
        "image_model = \"resnet-18\"\n",
        "\n",
        "# Load in data and unwrap it\n",
        "# Function to convert stringified tuple keys back to tuples\n",
        "def unwrap_keys(mapping):\n",
        "    return {literal_eval(k): v for k, v in mapping.items()}\n",
        "\n",
        "# Load the JSON file\n",
        "with open(f'./embeddings/{image_model}_embeddings_raw_train_aug.json', 'r') as json_file:\n",
        "    train_embeddings_from_json = json.load(json_file)\n",
        "\n",
        "with open(f'./embeddings/{image_model}_embeddings_train_aug.json', 'r') as json_file:\n",
        "    train_from_json = json.load(json_file)\n",
        "\n",
        "# Load the JSON file\n",
        "with open(f'./embeddings/{image_model}_embeddings_raw_val_aug.json', 'r') as json_file:\n",
        "    val_embeddings_from_json = json.load(json_file)\n",
        "\n",
        "with open(f'./embeddings/{image_model}_embeddings_val_aug.json', 'r') as json_file:\n",
        "    val_from_json = json.load(json_file)\n",
        "\n",
        "# Load the JSON file\n",
        "with open(f'./embeddings/{image_model}_embeddings_raw_test_aug.json', 'r') as json_file:\n",
        "    test_embeddings_from_json = json.load(json_file)\n",
        "\n",
        "with open(f'./embeddings/{image_model}_embeddings_test_aug.json', 'r') as json_file:\n",
        "    test_from_json = json.load(json_file)\n",
        "\n",
        "\n",
        "# print(data_from_json)\n",
        "# Unwrap the keys to their original tuple format\n",
        "# embeddings_from_json = unwrap_keys(embeddings_from_json)\n",
        "train_from_json = unwrap_keys(train_from_json)\n",
        "val_from_json = unwrap_keys(val_from_json)\n",
        "test_from_json = unwrap_keys(test_from_json)"
      ],
      "metadata": {
        "id": "MHBbGjPiHZIa"
      },
      "execution_count": null,
      "outputs": []
    },
    {
      "cell_type": "code",
      "source": [
        "text_key = \"text_embedding\"\n",
        "image_key = \"image_embeddings_all\"\n",
        "# score_key = \"scores\"\n",
        "image_embeddings_top_5 = \"image_embeddings_top5_idx\"\n",
        "image_embedding_key = \"image_embeddings_key\"\n",
        "\n",
        "def create_dataset(raw_json, train_json):\n",
        "  image_embeddings = []\n",
        "  text_embeddings = []\n",
        "  y_output = []\n",
        "  X_image_eval = []\n",
        "  X_text_embed_eval = []\n",
        "  y_eval = []\n",
        "  prompts = []\n",
        "  indeces = []\n",
        "  index = 0\n",
        "  for key, sub_dataset in train_json.items():\n",
        "    # print(key)\n",
        "    # if doing adverserial training\n",
        "    if key[1] != 1:\n",
        "      continue\n",
        "    y_i = key[1]\n",
        "    text_embedding = sub_dataset[text_key]\n",
        "    # fix for clip embeddings\n",
        "    # image_embedding = [item[0] for item in raw_json[sub_dataset[image_embedding_key]]]\n",
        "    # regular\n",
        "    image_embedding = raw_json[sub_dataset[image_embedding_key]]\n",
        "    # scores = sub_dataset[score_key]\n",
        "    top5 = sub_dataset[image_embeddings_top_5]\n",
        "    idx = top5[0]\n",
        "    # print(key, idx, len(image_embedding), index)\n",
        "    indeces.append(idx)\n",
        "    image_embeddings.append(image_embedding[idx])\n",
        "    text_embeddings.append(text_embedding)\n",
        "    y_output.append(y_i)\n",
        "    index += 1\n",
        "    if y_i == 1: #only add to evaluation set positive examples\n",
        "      X_image_eval.append(image_embedding)\n",
        "      X_text_embed_eval.append([text_embedding] * len(image_embedding))\n",
        "      y_eval.append(top5)\n",
        "\n",
        "  N = len(image_embeddings)\n",
        "  print(len(image_embeddings), len(text_embeddings), len(y_output))\n",
        "  return image_embeddings, text_embeddings, y_output, X_image_eval, X_text_embed_eval, y_eval, indeces\n",
        "# print(y_output)\n"
      ],
      "metadata": {
        "id": "BtAjI7fAJADh"
      },
      "execution_count": null,
      "outputs": []
    },
    {
      "cell_type": "code",
      "source": [
        "train_images, train_text, train_y, train_whole_images, train_repeated_text, train_y_top, \\\n",
        "train_indeces = create_dataset(train_embeddings_from_json, train_from_json)\n",
        "train_images = torch.tensor(train_images)\n",
        "train_text = torch.tensor(train_text)\n",
        "train_y = torch.tensor(train_y)\n",
        "train_data = (train_images, train_text, train_y, train_whole_images, train_repeated_text, train_y_top, \\\n",
        "train_indeces)\n",
        "_, _, _, eval_whole_images, eval_whole_text, eval_y, _ = create_dataset(val_embeddings_from_json, val_from_json)\n",
        "eval_data = (eval_whole_images, eval_whole_text, eval_y)\n",
        "_, _, _, test_whole_images, test_whole_text, test_y, _ = create_dataset(test_embeddings_from_json, test_from_json)\n",
        "test_data = (test_whole_images, test_whole_text, test_y)"
      ],
      "metadata": {
        "colab": {
          "base_uri": "https://localhost:8080/"
        },
        "id": "2eu2FVksJHBu",
        "outputId": "68f7a7f6-1c11-40fe-b319-84a942d5c4ec"
      },
      "execution_count": null,
      "outputs": [
        {
          "output_type": "stream",
          "name": "stdout",
          "text": [
            "480 480 480\n",
            "100 100 100\n",
            "60 60 60\n"
          ]
        }
      ]
    },
    {
      "cell_type": "code",
      "source": [
        "print(train_images.shape, train_text.shape)"
      ],
      "metadata": {
        "colab": {
          "base_uri": "https://localhost:8080/"
        },
        "id": "_qN6fMrp_T7Z",
        "outputId": "5999e651-b454-4d75-c208-6c69f81b8085"
      },
      "execution_count": null,
      "outputs": [
        {
          "output_type": "stream",
          "name": "stdout",
          "text": [
            "torch.Size([480, 1000]) torch.Size([480, 384])\n"
          ]
        }
      ]
    },
    {
      "cell_type": "code",
      "source": [
        "# if using non-adverserial training\n",
        "dataset = TensorDataset(train_images, train_text, train_y)\n",
        "batch_size = 32\n",
        "dataloader = DataLoader(dataset, batch_size=batch_size, shuffle=True)"
      ],
      "metadata": {
        "id": "fHYionQYgtMe"
      },
      "execution_count": null,
      "outputs": []
    },
    {
      "cell_type": "markdown",
      "source": [
        "model architecture and eval"
      ],
      "metadata": {
        "id": "Cy1GqhCpcm3p"
      }
    },
    {
      "cell_type": "code",
      "source": [
        "imageEmbeddingSize, queryTextEmbeddingSize = 1000, 384"
      ],
      "metadata": {
        "id": "wVssOaGbDPUI"
      },
      "execution_count": null,
      "outputs": []
    },
    {
      "cell_type": "code",
      "source": [
        "class EmbeddingProjectionNN(nn.Module):\n",
        "    def __init__(self, embeddingSize):\n",
        "      super().__init__()\n",
        "      self.linear_relu_stack = nn.Sequential(\n",
        "          nn.Linear(embeddingSize, 512),\n",
        "          nn.ReLU(),\n",
        "          nn.Dropout(),\n",
        "          nn.Linear(512, 512),\n",
        "          nn.LayerNorm(512),\n",
        "          nn.ReLU(),\n",
        "          nn.Dropout(),\n",
        "          nn.Linear(512, 256),\n",
        "          nn.ReLU()\n",
        "      )\n",
        "\n",
        "    def forward(self, x):\n",
        "      # input (N, E)\n",
        "      projection = self.linear_relu_stack(x)\n",
        "      return projection\n",
        "\n",
        "class RetrieverNN(nn.Module):\n",
        "  def __init__(self, imageEmbedding, queryEmbedding):\n",
        "    super().__init__()\n",
        "    self.imageProj = EmbeddingProjectionNN(imageEmbedding)\n",
        "    self.queryProj = EmbeddingProjectionNN(queryEmbedding)\n",
        "    # self.similarity = nn.CosineSimilarity(dim=1)\n",
        "\n",
        "\n",
        "  def forward(self, images, query):\n",
        "    imageProj = self.imageProj(images)\n",
        "    queryProj = self.queryProj(query)\n",
        "    # similarities = self.similarity(imageProj, queryProj)\n",
        "    distances = torch.norm(imageProj - queryProj, dim=1) / torch.norm(torch.abs(imageProj) + torch.abs(queryProj), dim=1)\n",
        "    # make similarities a prob scores between 0 and 1\n",
        "    # scores = similarities * 0.5 + 0.5\n",
        "    scores = 1 - distances\n",
        "    return scores\n",
        "\n"
      ],
      "metadata": {
        "id": "kvJJm9zsf2BO"
      },
      "execution_count": null,
      "outputs": []
    },
    {
      "cell_type": "code",
      "source": [
        "def eval_model(model, X_image_eval, X_text_eval, y_eval):\n",
        "  #Evaluate model\n",
        "  model.eval()  # set model to evaluation mode\n",
        "  eval_loose = 0\n",
        "  eval_tight = 0\n",
        "  N = len(X_image_eval)\n",
        "  with torch.no_grad():\n",
        "    for i in range(N):\n",
        "      X_image = torch.tensor(X_image_eval[i])\n",
        "      X_query_eval = torch.tensor(X_text_eval[i])\n",
        "      top5 = y_eval[i]\n",
        "      probs = model(X_image, X_query_eval)\n",
        "      top_pred = probs.detach().numpy().squeeze()\n",
        "      # print(prompts[i])\n",
        "      # print(top5[0], top_pred)\n",
        "      pred_idx = np.argmax(top_pred)\n",
        "      # print(top5[0], top_pred)\n",
        "      if pred_idx in top5:\n",
        "        eval_loose += 1\n",
        "      if pred_idx == top5[0]:\n",
        "        eval_tight += 1\n",
        "  # print(f\"tight: {eval_tight}, loose: {eval_loose}, N: {N}\")\n",
        "  return (float(eval_tight)/ N, float(eval_loose)/N)\n",
        "\n"
      ],
      "metadata": {
        "id": "CuDiH8VwN-_y"
      },
      "execution_count": null,
      "outputs": []
    },
    {
      "cell_type": "markdown",
      "source": [
        "Training"
      ],
      "metadata": {
        "id": "DhwpBdbOc0mK"
      }
    },
    {
      "cell_type": "code",
      "source": [
        "reg_val_acc = []\n",
        "loss = nn.BCELoss()\n",
        "def train_part34(model, optimizer, model_name, eval_data, epochs=10, scheduler = None):\n",
        "    \"\"\"\n",
        "    Inputs:\n",
        "    - model: A PyTorch Module giving the model to train.\n",
        "    - optimizer: An Optimizer object we will use to train the model\n",
        "    - epochs: (Optional) A Python integer giving the number of epochs to train for\n",
        "\n",
        "    Returns: Nothing, but prints model accuracies during training.\n",
        "    \"\"\"\n",
        "    model = model.to(device=device)  # move the model parameters to CPU/GPU\n",
        "    eval_whole_images, eval_whole_text, eval_y = eval_data\n",
        "    highest_accuracy = 0\n",
        "    for e in range(epochs):\n",
        "        for imageEmbeddings, queryEmbedding, y in dataloader:\n",
        "          # (B, E1), (B, E2), (B,)\n",
        "          model.train()  # put model to training mode\n",
        "          imageEmbeddings = imageEmbeddings.to(device=device, dtype=dtype)  # move to device, e.g. GPU\n",
        "          queryEmbedding = queryEmbedding.to(device=device, dtype=dtype)\n",
        "          y = y.to(device=device, dtype=dtype)\n",
        "\n",
        "          scores = model(imageEmbeddings, queryEmbedding)\n",
        "          # print(scores)\n",
        "          # print(y)\n",
        "          output = loss(scores, y)\n",
        "          # print(scores, y)\n",
        "\n",
        "          # Zero out all of the gradients for the variables which the optimizer\n",
        "          # will update.\n",
        "          optimizer.zero_grad()\n",
        "\n",
        "          # This is the backwards pass: compute the gradient of the loss with\n",
        "          # respect to each  parameter of the model.\n",
        "          output.backward()\n",
        "\n",
        "          # Actually update the parameters of the model using the gradients\n",
        "          # computed by the backwards pass.\n",
        "          optimizer.step()\n",
        "          if scheduler:\n",
        "            scheduler.step()\n",
        "          # print('Iteration %d, loss = %.4f' % (e, output.item()))\n",
        "\n",
        "        eval_acc = eval_model(model, eval_whole_images, eval_whole_text, eval_y)\n",
        "        # eval_acc = eval_model(model, train_whole_images, train_repeated_text, train_y_top)\n",
        "        print('Iteration %d, loss = %.4f' % (e, output.item()))\n",
        "        print('Iteration %d, 1_accuracy = %.4f, 5_accuracy = %.4f' % (e, eval_acc[0], eval_acc[1]))\n",
        "        reg_val_acc.append(eval_acc[0])\n",
        "        if highest_accuracy < eval_acc[0]:\n",
        "          print(\"saving model!\")\n",
        "          highest_accuracy = eval_acc[0]\n",
        "          torch.save(deepcopy(model.state_dict()), model_name)\n"
      ],
      "metadata": {
        "id": "3thaF3qkk8aW"
      },
      "execution_count": null,
      "outputs": []
    },
    {
      "cell_type": "markdown",
      "source": [
        "Training with contrastive examples"
      ],
      "metadata": {
        "id": "5iuZBjJUkRR6"
      }
    },
    {
      "cell_type": "code",
      "source": [
        "ad_val_acc = []\n",
        "loss = nn.BCELoss()\n",
        "ad_off_index = []\n",
        "def train_part_contrastive(model, optimizer, model_name,\n",
        "                           train_data, eval_data, epochs=10, scheduler = None):\n",
        "    \"\"\"\n",
        "    Inputs:\n",
        "    - model: A PyTorch Module giving the model to train.\n",
        "    - optimizer: An Optimizer object we will use to train the model\n",
        "    - epochs: (Optional) A Python integer giving the number of epochs to train for\n",
        "\n",
        "    Returns: Nothing, but prints model accuracies during training.\n",
        "    \"\"\"\n",
        "    ad_off_index_local = []\n",
        "    train_images, train_text, train_y, train_whole_images, train_repeated_text, train_y_top, \\\n",
        "    train_indeces = train_data\n",
        "    N = train_images.shape[0]\n",
        "    highest_accuracy = 0\n",
        "    model = model.to(device=device)  # move the model parameters to CPU/GPU\n",
        "    eval_whole_images, eval_whole_text, eval_y = eval_data\n",
        "\n",
        "    for e in range(epochs):\n",
        "      interval = 32\n",
        "      for i in range(0, N, interval):\n",
        "          # Get the current batch and train that batch\n",
        "          image_batch = train_images[i:i + interval].to(device=device, dtype=dtype)\n",
        "          query_batch = train_text[i:i + interval].to(device=device, dtype=dtype)\n",
        "          y_batch = train_y[i:i + interval].to(device=device, dtype=dtype)\n",
        "          index_batch = train_indeces[i:i + interval]\n",
        "          model.train()  # put model to training mode\n",
        "          scores = model(image_batch, query_batch)\n",
        "          output = loss(scores, y_batch)\n",
        "          optimizer.zero_grad()\n",
        "          # output.backward()\n",
        "\n",
        "\n",
        "          # find the best contrastive examples for each text prompt\n",
        "          model.eval()\n",
        "          eval_images = train_whole_images[i:i + interval]\n",
        "          query_eval = train_repeated_text[i:i + interval]\n",
        "\n",
        "          contrastive_images = torch.zeros(len(eval_images), imageEmbeddingSize)\n",
        "          with torch.no_grad():\n",
        "            for j in range(len(eval_images)):\n",
        "              images_i = torch.tensor(eval_images[j]).to(device=device, dtype=dtype)\n",
        "              queries_i = torch.tensor(query_eval[j]).to(device=device, dtype=dtype)\n",
        "              probs = model(images_i, queries_i).detach().numpy().squeeze()\n",
        "              sorted = np.argsort(probs)[::-1]\n",
        "              # print(index_batch, j)\n",
        "              correct = index_batch[j]\n",
        "              worst_miss = None\n",
        "              if sorted[0] != correct:\n",
        "                worst_miss = sorted[0]\n",
        "              else:\n",
        "                worst_miss = sorted[1]\n",
        "\n",
        "              contrastive_images[j] = images_i[worst_miss]\n",
        "\n",
        "              if i + j == 186:\n",
        "                ad_off_index_local.append(correct - worst_miss)\n",
        "                # print(ad_off_index)\n",
        "          # print(contrastive_images)\n",
        "          # image_batch = torch.tensor(contrastive_images).to(device=device, dtype=dtype)\n",
        "          y_batch = torch.zeros(len(eval_images))\n",
        "\n",
        "          model.train()  # put model to training mode\n",
        "          scores = model(contrastive_images, query_batch)\n",
        "          output += loss(scores, y_batch)\n",
        "          output.backward()\n",
        "\n",
        "          optimizer.step()\n",
        "          if scheduler:\n",
        "            scheduler.step()\n",
        "      eval_acc = eval_model(model, eval_whole_images, eval_whole_text, eval_y)\n",
        "      # eval_acc = eval_model(model, train_whole_images, train_repeated_text, train_y_top)\n",
        "      print('Iteration %d, loss = %.4f' % (e, output.item()))\n",
        "      print('Iteration %d, 1_accuracy = %.4f, 5_accuracy = %.4f' % (e, eval_acc[0], eval_acc[1]))\n",
        "      ad_val_acc.append(eval_acc[0])\n",
        "      if highest_accuracy < eval_acc[0]:\n",
        "        print(\"saving model!\")\n",
        "        highest_accuracy = eval_acc[0]\n",
        "        torch.save(deepcopy(model.state_dict()), model_name)\n",
        "    print(ad_off_index_local)\n",
        "    ad_off_index = ad_off_index_local\n",
        "\n",
        "\n"
      ],
      "metadata": {
        "id": "YRRk2egtlDES"
      },
      "execution_count": null,
      "outputs": []
    },
    {
      "cell_type": "markdown",
      "source": [
        "New Data Format"
      ],
      "metadata": {
        "id": "j3_I0gtJHXPq"
      }
    },
    {
      "cell_type": "code",
      "source": [
        "# train model\n",
        "ad_val_acc = []\n",
        "model_name = \"0603_resnet18_adv_cos\"\n",
        "model = RetrieverNN(imageEmbeddingSize, queryTextEmbeddingSize)\n",
        "optimizer = optim.Adam(model.parameters(), lr=0.01)\n",
        "train_part_contrastive(model, optimizer, model_name, train_data, eval_data, epochs = 5)\n",
        "# train_part34(model, optimizer, model_name, eval_data, epochs = 5)"
      ],
      "metadata": {
        "id": "vdnE1Jq2MO6A"
      },
      "execution_count": null,
      "outputs": []
    },
    {
      "cell_type": "code",
      "source": [
        "# load model back in\n",
        "model = RetrieverNN(imageEmbeddingSize, queryTextEmbeddingSize)\n",
        "model.load_state_dict(torch.load(model_name))\n",
        "eval_model(model, test_whole_images, test_whole_text, test_y)"
      ],
      "metadata": {
        "id": "JRIpnCfDNbBm"
      },
      "execution_count": null,
      "outputs": []
    },
    {
      "cell_type": "code",
      "source": [
        "\n",
        "plt.figure(figsize=(10, 6))\n",
        "plt.plot([6, 8, 6, 4, 6, 7, -3, -3, 6, 2, 8, 4, 3, -3, -3, -3, -3, -3, -3], marker='o', linestyle='-')\n",
        "plt.title('Relative Index Offset vs Epoch', fontsize = 20)\n",
        "plt.xlabel('Epoch', fontsize = 16)\n",
        "plt.ylabel('Index Offset', fontsize = 16)\n",
        "plt.grid(True)\n",
        "\n",
        "plt.savefig(\"index offset figure.pdf\")\n",
        "plt.show()\n"
      ],
      "metadata": {
        "colab": {
          "base_uri": "https://localhost:8080/",
          "height": 578
        },
        "id": "ybqHvyk-aVYM",
        "outputId": "b2b679b7-06e2-4b68-8131-c1caa2d629b8"
      },
      "execution_count": null,
      "outputs": [
        {
          "output_type": "display_data",
          "data": {
            "text/plain": [
              "<Figure size 1000x600 with 1 Axes>"
            ],
            "image/png": "[encoded data removed]"
          },
          "metadata": {}
        }
      ]
    }
  ]
}